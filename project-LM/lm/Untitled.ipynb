{
 "cells": [
  {
   "cell_type": "code",
   "execution_count": 1,
   "metadata": {},
   "outputs": [
    {
     "name": "stdout",
     "output_type": "stream",
     "text": [
      "\n",
      "\n",
      "loading data.....\n",
      "\n",
      "reading book data.....\n",
      "\n",
      "reading student data.....\n",
      "\n",
      "reading faculty data.....\n",
      "\n",
      "here you go !\n",
      "\n",
      "                                                        ~~~~~~~~~~~~~~~~~~~~~~~~~~~~~~~~~~~~~~~~                                                            \n",
      "                                                            Welcome To Library Management System\n",
      "~~~~~~~~~~~~~~~~~~~~~~~~~~~~~~~~~~~~~~~~~~~~~~~~~~~~~~~~~~~~~~~~~~~~~~~~~~~~~~~~~~~~~~~~~~~~~~~~~~~~~~~~~~~~~~~~~~~~~~~~~~~~~~~~~~~~~~~~~~~~~~~~~~~~~~~~~~~~~~~~\n",
      "\n",
      "\n",
      "                                                            Library Main Menu\n",
      "                                                          ````````````````````````````````````````                                                            \n",
      "                                                            1. Add a student member to library.\n",
      "                                                            2. Add a faculty member to library.\n",
      "                                                            3. Add a book to library.\n",
      "                                                            4. Issue book to student.\n",
      "                                                            5. Issue book to faculty\n",
      "                                                            6. Return book by student\n",
      "                                                            7. Return book by faculty\n",
      "                                                            8. Search for a book in library.\n",
      "                                                            9. Print student records.\n",
      "                                                            10. Print faculty records.\n",
      "                                                            11. Print book records\n",
      "                                                          ~~~~~~~~~~~~~~~~~~~~~~~~~~~~~~~~~~~~~~~~                                                            \n",
      "~~~~~~~~~~~~~~~~~~~~~~~~~~~~~~~~~~~~~~~~~~~~~~~~~~~~~~~~~~~~~~~~~~~~~~~~~~~~~~~~~~~~~~~~~~~~~~~~~~~~~~~~~~~~~~~~~~~~~~~~~~~~~~~~~~~~~~~~~~~~~~~~~~~~~~~~~~~~~~~~\n",
      "                                                                                                                                                      dev. by shyam\n",
      "\n",
      "\n",
      "Enter number of  the following operations / Press 12 to exit: 12\n"
     ]
    }
   ],
   "source": [
    "%run main_function.py\n"
   ]
  },
  {
   "cell_type": "code",
   "execution_count": 2,
   "metadata": {},
   "outputs": [
    {
     "name": "stdout",
     "output_type": "stream",
     "text": [
      "loading data.....\n",
      "\n",
      "reading book data.....\n",
      "\n",
      "book data collected.....\n",
      "\n",
      "reading student data.....\n",
      "\n",
      "student data collected.....\n",
      "\n",
      "reading faculty data.....\n",
      "\n",
      "faculty data collected.....\n",
      "\n",
      "thanks for your patience!......here you go !\n"
     ]
    }
   ],
   "source": [
    "import time\n",
    "import sys\n",
    "import winsound\n",
    "\n",
    "blah =\"loading data.....\"\n",
    "blah2=\"reading book data.....\"\n",
    "blah3=\"book data collected.....\"\n",
    "blah4=\"reading student data.....\"\n",
    "blah5=\"student data collected.....\"\n",
    "blah6=\"reading faculty data.....\"\n",
    "blah7=\"faculty data collected.....\"\n",
    "for l in blah:\n",
    "    sys.stdout.write(l)\n",
    "    sys.stdout.flush()\n",
    "    time.sleep(0.2)\n",
    "print(\"\\n\")    \n",
    "for i in blah2:\n",
    "    sys.stdout.write(i)\n",
    "    sys.stdout.flush()\n",
    "    time.sleep(0.025)\n",
    "print(\"\\n\")    \n",
    "for i in blah3:\n",
    "    sys.stdout.write(i)\n",
    "    sys.stdout.flush()\n",
    "    time.sleep(0.025)\n",
    "print(\"\\n\")    \n",
    "for i in blah4:\n",
    "    sys.stdout.write(i)\n",
    "    sys.stdout.flush()\n",
    "    time.sleep(0.025)\n",
    "print(\"\\n\")    \n",
    "for i in blah5:\n",
    "    sys.stdout.write(i)\n",
    "    sys.stdout.flush()\n",
    "    time.sleep(0.025)\n",
    "print(\"\\n\")    \n",
    "for i in blah6:\n",
    "    sys.stdout.write(i)\n",
    "    sys.stdout.flush()\n",
    "    time.sleep(0.025)\n",
    "print(\"\\n\")    \n",
    "for i in blah7:\n",
    "    sys.stdout.write(i)\n",
    "    sys.stdout.flush()\n",
    "    time.sleep(0.025)\n",
    "print(\"\\n\")    \n",
    "frequency = 2200  \n",
    "duration = 1000  \n",
    "winsound.Beep(frequency, duration)\n",
    "print(\"thanks for your patience!......here you go !\")    \n",
    "            \n",
    "    \n",
    "    "
   ]
  },
  {
   "cell_type": "code",
   "execution_count": 12,
   "metadata": {},
   "outputs": [],
   "source": [
    "#for sound\n",
    "import winsound\n",
    "frequency = 1400  # Set Frequency To 2500 Hertz\n",
    "duration = 1000  # Set Duration To 1000 ms == 1 second\n",
    "winsound.Beep(frequency, duration)"
   ]
  },
  {
   "cell_type": "code",
   "execution_count": 10,
   "metadata": {},
   "outputs": [
    {
     "data": {
      "text/plain": [
       "1"
      ]
     },
     "execution_count": 10,
     "metadata": {},
     "output_type": "execute_result"
    }
   ],
   "source": [
    "#for text to speech\n",
    "\n",
    "from gtts import gTTS \n",
    "import os \n",
    "mytext = 'Welcome to geeksforgeeks!'\n",
    "language = 'en'\n",
    "myobj = gTTS(text=mytext, lang=language, slow=False) \n",
    "myobj.save(\"welcome.mp3\") \n",
    "os.system(\"mpg321 welcome.mp3\") "
   ]
  },
  {
   "cell_type": "code",
   "execution_count": 13,
   "metadata": {},
   "outputs": [],
   "source": [
    "#for text to speech\n",
    "import pyttsx3 \n",
    "engine = pyttsx3.init() \n",
    "engine.say(\"hello world\") \n",
    "engine.say(\"Thank you,stackoverflow\") \n",
    "engine.runAndWait()"
   ]
  },
  {
   "cell_type": "code",
   "execution_count": 16,
   "metadata": {},
   "outputs": [],
   "source": [
    "import pickle \n",
    "l=[\"hey\"]\n",
    "file=open()"
   ]
  },
  {
   "cell_type": "code",
   "execution_count": 36,
   "metadata": {},
   "outputs": [
    {
     "name": "stdout",
     "output_type": "stream",
     "text": [
      "['shyam,harshit']\n"
     ]
    }
   ],
   "source": [
    "#sample 1\n",
    "\n",
    "curr_students = [\"shyam,harshit\"]\n",
    "#dumping into pkl file\n",
    "for i in range(0, len(curr_students)):\n",
    "        if i == 0:\n",
    "            with open('s.pkl', 'wb') as f:\n",
    "                pickle.dump(curr_students[i], f)\n",
    "        else:\n",
    "            with open('s.pkl', 'ab') as f:\n",
    "                pickle.dump(curr_students[i], f)\n",
    "\n",
    "\n",
    "curr = []\n",
    "\n",
    "with open('s.pkl', 'rb') as f:\n",
    "    while True:\n",
    "        try:\n",
    "            curr.append(pickle.load(f))\n",
    "        except EOFError:\n",
    "            break\n",
    "print(curr)"
   ]
  }
 ],
 "metadata": {
  "kernelspec": {
   "display_name": "Python 3",
   "language": "python",
   "name": "python3"
  },
  "language_info": {
   "codemirror_mode": {
    "name": "ipython",
    "version": 3
   },
   "file_extension": ".py",
   "mimetype": "text/x-python",
   "name": "python",
   "nbconvert_exporter": "python",
   "pygments_lexer": "ipython3",
   "version": "3.7.3"
  }
 },
 "nbformat": 4,
 "nbformat_minor": 2
}
